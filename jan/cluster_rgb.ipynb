{
 "cells": [
  {
   "cell_type": "markdown",
   "metadata": {},
   "source": [
    "### Clustering RGB values in an image\n",
    "\n",
    "Just as a toy example, we're going to take the RGB values from each pixel in an image and cluster them.\n",
    "\n",
    "This means that we have 3 Dimensions (red, green and blue). The number of datapoints is simply the number of pixels in the image.\n",
    "\n",
    "_NB: In Jupyter, you simply go to a cell and hit `Shift + Enter` to run the cell and advance to the next cell._"
   ]
  },
  {
   "cell_type": "code",
   "execution_count": null,
   "metadata": {
    "collapsed": true
   },
   "outputs": [],
   "source": [
    "import sklearn.cluster\n",
    "import numpy as np\n",
    "import scipy as sp\n",
    "import matplotlib.pyplot as plt\n",
    "%matplotlib inline\n",
    "from IPython.display import Image as show_image"
   ]
  },
  {
   "cell_type": "code",
   "execution_count": null,
   "metadata": {},
   "outputs": [],
   "source": [
    "# let's look at what the picture is like\n",
    "\n",
    "# load the picture into an array\n",
    "image = sp.misc.imread('landscape.png')\n",
    "\n",
    "# for the machine learning later, we need to turn it into a pixelnumber x 3 array:\n",
    "data = np.reshape(image[:, :, :3], (-1, 3)).astype(float)\n",
    "\n",
    "# show the image\n",
    "plt.imshow(image)\n",
    "plt.show()\n",
    "\n",
    "# print the size of the image\n",
    "print('Shape of our image array:', image.shape)"
   ]
  },
  {
   "cell_type": "markdown",
   "metadata": {},
   "source": [
    "However, whatever algorithm we use won't see the data like this (we're not do\n",
    "\n",
    "Since this is \"only\" threedimensional, we can actually visualise it with only 3 plots.\n",
    "\n",
    "This can give us some idea as to how hard this would be for an algorithm to solve."
   ]
  },
  {
   "cell_type": "code",
   "execution_count": null,
   "metadata": {},
   "outputs": [],
   "source": [
    "# let's visualise the data points in all three dimensions\n",
    "fig, axes = plt.subplots(nrows=1, ncols=3, figsize=(15, 5))\n",
    "for dim in range(3):\n",
    "    plt.axes(axes[dim])\n",
    "    x, y = ((dim + 1) % 3, (dim + 2) % 3)\n",
    "    plt.scatter(data[:, x], data[:, y], alpha=0.1)\n",
    "    plt.xlabel(['Red', 'Green', 'Blue'][x])\n",
    "    plt.ylabel(['Red', 'Green', 'Blue'][y])\n",
    "\n",
    "plt.show()\n"
   ]
  },
  {
   "cell_type": "markdown",
   "metadata": {},
   "source": [
    "## Using a k-clusters approach\n",
    "\n",
    "First: An algorithm where we ask for a number of clusters and it optimises the location of those clusters.\n",
    "\n",
    "Let's just use a very simple algorithm to make a start. KMeans simply places _k_ cluster centers randomly into our data and then iterates a bunch of times to find the optimal placement."
   ]
  },
  {
   "cell_type": "code",
   "execution_count": null,
   "metadata": {
    "collapsed": true
   },
   "outputs": [],
   "source": [
    "from sklearn.cluster import KMeans\n",
    "\n",
    "# decide how many clusters you want to get from the algorithm\n",
    "k = ?\n",
    "\n",
    "# initialise the clustering class\n",
    "cluster_algorithm = KMeans(n_clusters=k, init='k-means++', max_iter=1000)\n",
    "\n",
    "# Use the \"fit\" method of the clustering class to fit the data.\n",
    "# Note: in python, you simply call class_name.method_name(method_arguments)\n",
    "# <your code here>\n",
    "\n",
    "# make it give us a new clustering value\n",
    "cluster_labels = cluster_algorithm.predict(data)\n"
   ]
  },
  {
   "cell_type": "markdown",
   "metadata": {},
   "source": [
    "To check if the clustering algorithm actually produced some good values, let's plot the image using our labels:"
   ]
  },
  {
   "cell_type": "code",
   "execution_count": null,
   "metadata": {},
   "outputs": [],
   "source": [
    "plt.imshow(np.reshape(cluster_labels, (image.shape[0], image.shape[1])), cmap='Set3')\n",
    "plt.show()\n"
   ]
  },
  {
   "cell_type": "code",
   "execution_count": null,
   "metadata": {},
   "outputs": [],
   "source": [
    "# we can also visualise these in our original three-slice plots\n",
    "fig, axes = plt.subplots(nrows=1, ncols=3, figsize=(15, 5))\n",
    "for dim in range(3):\n",
    "    plt.axes(axes[dim])\n",
    "    x, y = ((dim + 1) % 3, (dim + 2) % 3)\n",
    "    plt.scatter(data[:, x], data[:, y], alpha=0.1, c=cluster_labels, cmap='Set3')\n",
    "    plt.xlabel(['Red', 'Green', 'Blue'][x])\n",
    "    plt.ylabel(['Red', 'Green', 'Blue'][y])\n",
    "\n",
    "plt.show()\n"
   ]
  },
  {
   "cell_type": "markdown",
   "metadata": {},
   "source": [
    "---\n",
    "\n",
    "## Using a density approach\n",
    "\n",
    "So this produces really good results when \"telling\" the algorithm how many labels we wanted back. Let's try an algorithm that uses a density approach."
   ]
  },
  {
   "cell_type": "code",
   "execution_count": null,
   "metadata": {
    "collapsed": true
   },
   "outputs": [],
   "source": [
    "from sklearn.cluster import DBSCAN\n",
    "\n",
    "# initialise the algorithm\n",
    "cluster_algorithm = DBSCAN(eps=3, min_samples=10, n_jobs=4)\n",
    "\n",
    "# Make the algorithm fit the data\n",
    "cluster_algorithm.fit(data)\n",
    "\n",
    "cluster_labels = cluster_algorithm.labels_"
   ]
  },
  {
   "cell_type": "code",
   "execution_count": null,
   "metadata": {},
   "outputs": [],
   "source": [
    "plt.imshow(np.reshape(cluster_labels, (image.shape[0], image.shape[1])), cmap='Set3')\n",
    "plt.show()\n"
   ]
  },
  {
   "cell_type": "code",
   "execution_count": null,
   "metadata": {},
   "outputs": [],
   "source": [
    "fig, axes = plt.subplots(nrows=1, ncols=3, figsize=(15, 5))\n",
    "for dim in range(3):\n",
    "    plt.axes(axes[dim])\n",
    "    x, y = ((dim + 1) % 3, (dim + 2) % 3)\n",
    "    plt.scatter(data[:, x], data[:, y], alpha=0.1, c=cluster_labels, cmap='Set3', label=cluster_labels)\n",
    "    plt.xlabel(['Red', 'Green', 'Blue'][x])\n",
    "    plt.ylabel(['Red', 'Green', 'Blue'][y])\n",
    "\n",
    "plt.legend()\n",
    "plt.show()\n"
   ]
  }
 ],
 "metadata": {
  "kernelspec": {
   "display_name": "Python [conda env:Python3]",
   "language": "python",
   "name": "conda-env-Python3-py"
  },
  "language_info": {
   "codemirror_mode": {
    "name": "ipython",
    "version": 3
   },
   "file_extension": ".py",
   "mimetype": "text/x-python",
   "name": "python",
   "nbconvert_exporter": "python",
   "pygments_lexer": "ipython3",
   "version": "3.6.1"
  }
 },
 "nbformat": 4,
 "nbformat_minor": 2
}
